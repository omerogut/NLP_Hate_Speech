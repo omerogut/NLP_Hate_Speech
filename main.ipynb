{
 "cells": [
  {
   "cell_type": "code",
   "execution_count": 1,
   "metadata": {},
   "outputs": [],
   "source": [
    "import pandas as pd\n",
    "import matplotlib.pyplot as plt\n",
    "import seaborn as sns\n",
    "\n",
    "import data\n",
    "\n",
    "from xgboost import XGBClassifier\n",
    "from lightgbm import LGBMClassifier\n",
    "\n",
    "from sklearn.ensemble import RandomForestClassifier\n",
    "from sklearn.linear_model import LogisticRegression\n",
    "\n",
    "from sklearn.feature_extraction.text import CountVectorizer, TfidfVectorizer\n",
    "\n",
    "from imblearn.over_sampling import SMOTE\n",
    "from imblearn.under_sampling import RandomUnderSampler\n",
    "from imblearn.combine import SMOTETomek\n",
    "\n",
    "from tensorflow.keras.models import Sequential\n",
    "from tensorflow.keras.layers import Dense, Dropout\n",
    "\n",
    "from sklearn.metrics import classification_report, confusion_matrix, accuracy_score"
   ]
  },
  {
   "cell_type": "code",
   "execution_count": 2,
   "metadata": {},
   "outputs": [],
   "source": [
    "X_train, X_test, y_train, y_test, label_dict = data.load_data()\n",
    "\n",
    "count_vectorizer = CountVectorizer(ngram_range=(1, 2))\n",
    "tfidf_vectorizer = TfidfVectorizer(ngram_range=(1, 2))\n",
    "\n",
    "smote = SMOTE(random_state=42)\n",
    "under_sampler = RandomUnderSampler(random_state=42)\n",
    "smote_tomek = SMOTETomek(random_state=42)"
   ]
  },
  {
   "cell_type": "code",
   "execution_count": 3,
   "metadata": {},
   "outputs": [],
   "source": [
    "classifiers = {\n",
    "    'Random Forest': RandomForestClassifier(random_state=42),\n",
    "    'XGBoost': XGBClassifier(use_label_encoder=False, eval_metric='logloss'),\n",
    "    'LightGBM': LGBMClassifier(random_state=42),\n",
    "    'Logistic Regression': LogisticRegression(max_iter=1000)\n",
    "}"
   ]
  },
  {
   "cell_type": "code",
   "execution_count": 4,
   "metadata": {},
   "outputs": [],
   "source": [
    "results = []\n",
    "\n",
    "def train_and_evaluate(vectorizer, resampling_method, classifier, vectorizer_name, resampling_name, classifier_name):\n",
    "    X_train_vec = vectorizer.fit_transform(X_train)\n",
    "    X_test_vec = vectorizer.transform(X_test)\n",
    "\n",
    "    if resampling_method:\n",
    "        X_resampled, y_resampled = resampling_method.fit_resample(X_train_vec, y_train)\n",
    "    else:\n",
    "        X_resampled, y_resampled = X_train_vec, y_train\n",
    "\n",
    "    if classifier_name == 'LightGBM':\n",
    "        X_resampled = X_resampled.astype('float32')\n",
    "        X_test_vec = X_test_vec.astype('float32')\n",
    "\n",
    "    classifier.fit(X_resampled, y_resampled)\n",
    "    y_pred = classifier.predict(X_test_vec)\n",
    "\n",
    "    report = classification_report(y_test, y_pred, output_dict=True)\n",
    "    acc = accuracy_score(y_test, y_pred)\n",
    "    results.append({\n",
    "        'Vectorizer': vectorizer_name,\n",
    "        'Resampling': resampling_name,\n",
    "        'Classifier': classifier_name,\n",
    "        'Accuracy': acc,\n",
    "        'Classification Report': report\n",
    "    })\n",
    "\n",
    "    # Plot confusion matrix\n",
    "    cm = confusion_matrix(y_test, y_pred)\n",
    "    plt.figure(figsize=(8, 6))\n",
    "    sns.heatmap(cm, annot=True, fmt='d', cmap='Blues', xticklabels=label_dict.values(), yticklabels=label_dict.values())\n",
    "    plt.title(f'Confusion Matrix: {vectorizer_name} + {classifier_name} ({resampling_name})')\n",
    "    plt.ylabel('Actual')\n",
    "    plt.xlabel('Predicted')\n",
    "    plt.show()"
   ]
  },
  {
   "cell_type": "markdown",
   "metadata": {},
   "source": [
    "## CountVectorizer"
   ]
  },
  {
   "cell_type": "code",
   "execution_count": 5,
   "metadata": {},
   "outputs": [],
   "source": [
    "vectorizer_name = 'CountVectorizer'\n",
    "vectorizer = count_vectorizer"
   ]
  },
  {
   "cell_type": "code",
   "execution_count": null,
   "metadata": {},
   "outputs": [],
   "source": [
    "# Original data\n",
    "resampling_name = 'Original'\n",
    "resampling_method = None\n",
    "for classifier_name, classifier in classifiers.items():\n",
    "    print(f'Training: {vectorizer_name} + {classifier_name} ({resampling_name})')\n",
    "    train_and_evaluate(vectorizer, resampling_method, classifier, vectorizer_name, resampling_name, classifier_name)"
   ]
  },
  {
   "cell_type": "code",
   "execution_count": null,
   "metadata": {},
   "outputs": [],
   "source": [
    "# SMOTE resampling\n",
    "resampling_name = 'SMOTE'\n",
    "resampling_method = smote\n",
    "for classifier_name, classifier in classifiers.items():\n",
    "    print(f'Training: {vectorizer_name} + {classifier_name} ({resampling_name})')\n",
    "    train_and_evaluate(vectorizer, resampling_method, classifier, vectorizer_name, resampling_name, classifier_name)"
   ]
  },
  {
   "cell_type": "code",
   "execution_count": null,
   "metadata": {},
   "outputs": [],
   "source": [
    "# Undersampling\n",
    "resampling_name = 'Undersample'\n",
    "resampling_method = under_sampler\n",
    "for classifier_name, classifier in classifiers.items():\n",
    "    print(f'Training: {vectorizer_name} + {classifier_name} ({resampling_name})')\n",
    "    train_and_evaluate(vectorizer, resampling_method, classifier, vectorizer_name, resampling_name, classifier_name)"
   ]
  },
  {
   "cell_type": "code",
   "execution_count": null,
   "metadata": {},
   "outputs": [],
   "source": [
    "# SMOTE+Tomek resampling\n",
    "resampling_name = 'SMOTE+Tomek'\n",
    "resampling_method = smote_tomek\n",
    "for classifier_name, classifier in classifiers.items():\n",
    "    print(f'Training: {vectorizer_name} + {classifier_name} ({resampling_name})')\n",
    "    train_and_evaluate(vectorizer, resampling_method, classifier, vectorizer_name, resampling_name, classifier_name)"
   ]
  },
  {
   "cell_type": "markdown",
   "metadata": {},
   "source": [
    "## TfidfVectorizer"
   ]
  },
  {
   "cell_type": "code",
   "execution_count": null,
   "metadata": {},
   "outputs": [],
   "source": []
  },
  {
   "cell_type": "code",
   "execution_count": null,
   "metadata": {},
   "outputs": [],
   "source": []
  }
 ],
 "metadata": {
  "kernelspec": {
   "display_name": "Python 3",
   "language": "python",
   "name": "python3"
  },
  "language_info": {
   "codemirror_mode": {
    "name": "ipython",
    "version": 3
   },
   "file_extension": ".py",
   "mimetype": "text/x-python",
   "name": "python",
   "nbconvert_exporter": "python",
   "pygments_lexer": "ipython3",
   "version": "3.12.7"
  }
 },
 "nbformat": 4,
 "nbformat_minor": 2
}
